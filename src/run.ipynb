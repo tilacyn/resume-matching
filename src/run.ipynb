{
 "cells": [
  {
   "cell_type": "markdown",
   "metadata": {},
   "source": [
    "**Parse resumes definition**"
   ]
  },
  {
   "cell_type": "code",
   "execution_count": 7,
   "metadata": {},
   "outputs": [],
   "source": [
    "import itertools\n",
    "import numpy as np\n",
    "from os import listdir\n",
    "\n",
    "import metrics\n",
    "import resumes.job_spider_resume_parser as sp\n",
    "from resumes.job_spider_resume_parser import JobSpiderHTMLResumeParser\n",
    "from resumes.resume import Resume\n",
    "from resumes.resume_fetcher import JobSpiderResumeFetcher\n",
    "from vacancies.job_spider_vacancy_parser import JobSpiderHTMLVacancyParser\n",
    "from vacancies.vacancy import Vacancy\n",
    "from vacancies.vacancy_fetcher import JobSpiderVacancyFetcher\n",
    "\n",
    "\n",
    "def parse_resumes():\n",
    "    resumes = []\n",
    "    observed_resumes = listdir('../resumes')[:10]\n",
    "    for fname in observed_resumes:\n",
    "        parser = JobSpiderHTMLResumeParser()\n",
    "        print(fname)\n",
    "        f = open('../resumes/' + fname)\n",
    "        parser.feed(f.read())\n",
    "\n",
    "        resume_field_map = parser.get_resume()\n",
    "        resume_field_map['id'] = fname\n",
    "        resumes.append(Resume(resume_field_map))\n",
    "\n",
    "    return resumes"
   ]
  },
  {
   "cell_type": "code",
   "execution_count": 8,
   "metadata": {},
   "outputs": [
    {
     "name": "stdout",
     "output_type": "stream",
     "text": [
      "view-resume-66068.html\n",
      "view-resume-70761.html\n",
      "view-resume-53808.html\n",
      "view-resume-56956.html\n",
      "view-resume-74436.html\n",
      "view-resume-57598.html\n",
      "view-resume-78042.html\n",
      "view-resume-54520.html\n",
      "view-resume-78281.html\n",
      "view-resume-50275.html\n"
     ]
    }
   ],
   "source": [
    "resumes = parse_resumes()"
   ]
  },
  {
   "cell_type": "code",
   "execution_count": 12,
   "metadata": {},
   "outputs": [
    {
     "name": "stdout",
     "output_type": "stream",
     "text": [
      "Resume #view-resume-56956.html\n",
      "Education: ['THE ASSOCIATION OF CHARTERED CERTIFIED', 'ACCOUNTANTS, Baku, Azerbaijan', 'ACCA\\x96I Level Business Course and', 'Generally Accepted Accounting Principles', '(GAAP): 2005', 'SITS LEARNING CENTER, Baku, Azerbaijan', 'Accounting Courses: 2004', 'AZERBAIJAN STATE UNIVERSITY OF FOREIGN', 'LANGUAGES, Baku, Azerbaijan', 'Bachelor of English Teaching: 2003', 'AZERBAIJAN STATE UNIVERSITY OF FOREIGN', 'LANGUAGES, Baku, Azerbaijan', 'Bachelor of French Philology: 2000', 'Affiliations:', '---------'] \n",
      "\n",
      "Additional Information: ['TECHNICAL ACUMEN', 'Microsoft Office Suite\\x96Word, Excel,', 'PowerPoint, and Outlook ~ Photoshop', 'Reference:', 'Available upon request.'] \n",
      "\n",
      "Objective: ['Dynamic, results\\x96oriented, and globally', 'experienced professional equipped with', 'extensive years of broad\\x96based', 'background translating legal documents', 'in multiple languages, fluent in Azeri,', 'Turkish,', 'English, Russian, Greek, and Portuguese', 'with advanced communicative abilities in', 'Spanish and French. Accustomed to', 'dealing with diverse groups of people in', 'social and cultural settings strong', 'communication skills honed by rigorous', 'travels to different countries', 'worldwide. Possess strong knowledge in', 'international trade, management,', 'accounting, and business development.', 'With strong drive', 'in optimizing process to achieve company', 'goals and objectives. Employ', 'professionalism and consistently ensure', 'that high performance and quality', 'results are delivered.'] \n",
      "\n",
      "Candidate Contact Information: ['JobSpider.com has chosen not to make contact information available on this page.', 'Click \"Contact Candidate\" to send this candidate a response.', '<!--google_ad_client = \"pub-1662552535203450\";google_alternate_color = \"FFFFFF\";google_ad_width = 160;google_ad_height = 600;google_ad_format = \"160x600_as\";google_color_border = \"FFFFFF\";google_color_bg = \"FFFFFF\";google_color_link = \"336699\";google_color_url = \"336699\";google_color_text = \"000000\";//-->', '© 2019 Job Spider', 'Privacy Policy', '|', 'CC Marketing Sites', '|', 'Site Map', '|', 'Links', 'var gaJsHost = ((\"https:\" == document.location.protocol) ? \"https://ssl.\" : \"http://www.\");document.write(unescape(\"%3Cscript src=\\'\" + gaJsHost + \"google-analytics.com/ga.js\\' type=\\'text/javascript\\'%3E%3C/script%3E\"));', 'try {var pageTracker = _gat._getTracker(\"UA-11167823-1\");pageTracker._trackPageview();} catch(err) {}'] \n",
      "\n",
      "Experience: ['Office Manager 2009\\x96Present', 'Alla\\x92s Fine Art\\x96Baton Rouge, LA, USA', 'Oversee daily office operations and', 'effectively manage and monitor inventory', 'of all products. Generate accurate', 'inventory reports and perform various', 'office duties. Handle and process', 'customer', 'orders, facilitate frame and mat orders.', 'Collaborate with artist and coordinate', 'sale of art.', 'Office Manager2006\\x962009', 'Ventana Oil & Chemical Ltd. Co\\x96Baku,', 'Azerbaijan', 'Provided dynamic leadership in the', 'shipping and distribution of raw', 'materials and commodities in shipload', 'quantities. Executed winning negotiation', 'with suppliers and vendors, approved', 'contracts, as', 'well as issued Letter of Intents (LOIs)', 'and Full Corporate Offers (FCOs) to', 'prospective clients, translating', 'documents as necessary. Directly', 'involved in overseeing all facets of', 'daily business', 'operations of the company. Has binding', 'authority in approving contracts as well', 'as in negotiating with suppliers and', 'vendors throughout various travels in', 'different countries mostly in Brazil and', 'assumed oral and written translation', 'Assistant to Business Development', 'Director 2002\\x962003', 'Azpetrol Oil Company\\x96Baku, Azerbaijan', 'Maintained a well-organized schedule of', 'business trips and appointments,', 'including coordinating hotel', 'reservations as well planning and', 'arranging travel itineraries. Utilized', 'outstanding', 'communication skills and fluency in', 'different languages in translating', 'transactions, conversation, and', 'documents in English, Azeri, Russian,', 'and vice versa.', 'Independent Translator/Interpreter', '2001\\x962002', 'Baku, Azerbaijan', 'Rendered oral interpretation and', 'translation for foreign groups and', 'accepted order translation orders', 'working from home.', 'English Teacher 2000\\x962002', '\\x93Esperanto\\x94 Foreign Languages\\x96Baku,', 'Azerbaijan', 'Provided instructions to seniors in', 'communicating using the English', 'language. Organized and presided over', 'various communication clubs.', 'OTHER EXPERIENCE', 'Chief Accountant 2005\\x962006', 'Mediterranean Survey & Services\\x96Baku,', 'Azerbaijan', 'Chief Accountant 2004\\x962005', 'Kaspian International Ltd.\\x96Baku,', 'Azerbaijan', 'Assistant to the Chief Accountant', '2003\\x962004', 'Djavad Djafary\\x96Baku, Azerbaijan'] \n",
      "\n",
      "Skills: ['----------'] \n",
      "\n",
      "Desired Industry: Management \n",
      "\n",
      "Desired Job Location: Baton Rouge, Louisiana \n",
      "\n",
      "Date Posted: 1/12/2012 \n",
      "\n",
      "Type of Position: Full-Time Permanent \n",
      "\n",
      "Desired Wage: 40000 \n",
      "\n",
      "U.S. Work Authorization: Yes \n",
      "\n",
      "Job Level: Management (Manager, Director) \n",
      "\n",
      "Willing to Travel: Yes, 25-50% \n",
      "\n",
      "Highest Degree Attained: Bachelors \n",
      "\n",
      "Willing to Relocate: No \n",
      "\n",
      "id: view-resume-56956.html \n",
      "\n"
     ]
    }
   ],
   "source": [
    "resumes[3].print()"
   ]
  },
  {
   "cell_type": "code",
   "execution_count": null,
   "metadata": {},
   "outputs": [],
   "source": []
  }
 ],
 "metadata": {
  "kernelspec": {
   "display_name": "Python 3",
   "language": "python",
   "name": "python3"
  },
  "language_info": {
   "codemirror_mode": {
    "name": "ipython",
    "version": 3
   },
   "file_extension": ".py",
   "mimetype": "text/x-python",
   "name": "python",
   "nbconvert_exporter": "python",
   "pygments_lexer": "ipython3",
   "version": "3.6.8"
  }
 },
 "nbformat": 4,
 "nbformat_minor": 2
}
