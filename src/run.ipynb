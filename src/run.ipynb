{
 "cells": [
  {
   "cell_type": "markdown",
   "metadata": {},
   "source": [
    "**Parse resumes definition**"
   ]
  },
  {
   "cell_type": "code",
   "execution_count": 1,
   "metadata": {},
   "outputs": [],
   "source": [
    "import itertools\n",
    "import numpy as np\n",
    "from os import listdir\n",
    "\n",
    "import metrics\n",
    "import resumes.job_spider_resume_parser as sp\n",
    "from resumes.job_spider_resume_parser import JobSpiderHTMLResumeParser\n",
    "from resumes.resume import Resume\n",
    "from resumes.resume_fetcher import JobSpiderResumeFetcher\n",
    "from vacancies.job_spider_vacancy_parser import JobSpiderHTMLVacancyParser\n",
    "from vacancies.vacancy import Vacancy\n",
    "from vacancies.vacancy_fetcher import JobSpiderVacancyFetcher\n",
    "\n",
    "\n",
    "def parse_resumes():\n",
    "    resumes = []\n",
    "    observed_resumes = listdir('../resumes')[:10]\n",
    "    for fname in observed_resumes:\n",
    "        parser = JobSpiderHTMLResumeParser()\n",
    "        print(fname)\n",
    "        f = open('../resumes/' + fname)\n",
    "        parser.feed(f.read())\n",
    "\n",
    "        resume_field_map = parser.get_resume()\n",
    "        resume_field_map['id'] = fname\n",
    "        resumes.append(Resume(resume_field_map))\n",
    "\n",
    "    return resumes"
   ]
  },
  {
   "cell_type": "code",
   "execution_count": 2,
   "metadata": {},
   "outputs": [
    {
     "name": "stdout",
     "output_type": "stream",
     "text": [
      "view-resume-66068.html\n",
      "view-resume-70761.html\n",
      "view-resume-53808.html\n",
      "view-resume-56956.html\n",
      "view-resume-74436.html\n",
      "view-resume-57598.html\n",
      "view-resume-78042.html\n",
      "view-resume-54520.html\n",
      "view-resume-78281.html\n",
      "view-resume-50275.html\n"
     ]
    }
   ],
   "source": [
    "resumes = parse_resumes()"
   ]
  },
  {
   "cell_type": "code",
   "execution_count": 4,
   "metadata": {},
   "outputs": [
    {
     "name": "stdout",
     "output_type": "stream",
     "text": [
      "Resume #view-resume-70761.html\n",
      "Education: [] \n",
      "\n",
      "Candidate Contact Information: ['JobSpider.com has chosen not to make contact information available on this page.', 'Click \"Contact Candidate\" to send this candidate a response.', '<!-- google_ad_client = \"pub-1662552535203450\"; google_alternate_color = \"FFFFFF\"; google_ad_width = 160; google_ad_height = 600; google_ad_format = \"160x600_as\"; google_color_border = \"FFFFFF\"; google_color_bg = \"FFFFFF\"; google_color_link = \"336699\"; google_color_url = \"336699\"; google_color_text = \"000000\"; //-->', '© 2019 Job Spider', 'Privacy Policy', '|', 'CC Marketing Sites', '|', 'Site Map', '|', 'Links', 'var gaJsHost = ((\"https:\" == document.location.protocol) ? \"https://ssl.\" : \"http://www.\"); document.write(unescape(\"%3Cscript src=\\'\" + gaJsHost + \"google-analytics.com/ga.js\\' type=\\'text/javascript\\'%3E%3C/script%3E\"));', 'try { var pageTracker = _gat._getTracker(\"UA-11167823-1\"); pageTracker._trackPageview(); } catch(err) {}'] \n",
      "\n",
      "Experience: ['Over 27 years experience as Systems Administrator installing and configuring Novell and Microsoft networks.', 'Highly skilled with all versions of Microsoft Windows, DOS and software support.', 'Utilize MS Windows CMD scripts to automate redundant task.', 'Solve complex problems with relative ease.', 'Setup and configure operating systems, Windows servers and workstations.', 'Upgrade, Troubleshoot, and Repair Pc and laptop hardware.', 'Cisco VOIP configuration and support using Asterisk phone software.'] \n",
      "\n",
      "Objective: [] \n",
      "\n",
      "Additional Information: [] \n",
      "\n",
      "Skills: ['Client Technical Support and Training', 'Systems Administrator', 'Installing and Upgrading Workstations and Servers', 'Maintain, Diagnosis, and Repair system issues', 'Hardware Installation and Configuration', 'Install and maintain Cisco Switches/Routers', 'Performing Daily Backups and Restoring Data', 'Wireless Networking for Windows 95 - Windows 7', 'Computer Assembly', 'MACbook pro, MAC pro', 'IBM PC Compatible 8086 - i7 including laptops', 'MS Office Professional', 'Advanced CMD script creation', 'Windows 3.1 - Windows 7', 'Html, VBScript, JavaScript', 'Multimedia converting.', 'Network:', 'Systems Administrator', 'Ethernet', 'TCPIP', 'VOIP Cisco/Asterisk', 'MPLS (Multiprotocol Label Switching)', 'Cabling infrastructure design/implementation', 'Cisco switches/routers', 'Computers and Servers:', 'Hewlett Packard', 'Dell', 'IBM', 'Compaq', 'Apple Macbook pro and Mac pro', 'Various IBM Clones', 'Software:', 'VMWare', 'Microsoft Windows Server 2008, 2003, 2000, NT', 'Microsoft Windows 7', 'Microsoft Windows XP', 'Microsoft Windows Vista', 'Netware 3.X, 4.X', 'MAC OS X', 'Microsoft Exchange 2003, 2000, 5.5.', 'Microsoft Office 2000, 2003, 2007, 2010', 'Microsoft Visio', 'Microsoft Project', 'Microsoft Forefront Endpoint Protection', 'NAV 10.x', 'Backup Exec', 'Microsoft Service Manager', 'SCCM (System Center Configuration Manager)', 'SCOM (System Center Operations Manager)', 'Wideorbit Traffic System', 'Nielsen Arianna', 'One Domain', 'ENPS', 'Medialine', 'Pitch Blue', 'Ross Overdrive', 'VIZRT', 'Reference:', 'Available upon request.'] \n",
      "\n",
      "Desired Industry: Computer Hardware \n",
      "\n",
      "Desired Job Location: El Cajon, California \n",
      "\n",
      "Date Posted: 11/14/2013 \n",
      "\n",
      "Type of Position: Full-Time Permanent \n",
      "\n",
      "Desired Wage: 45000 \n",
      "\n",
      "U.S. Work Authorization: Yes \n",
      "\n",
      "Job Level: Experienced with over 2 years experience \n",
      "\n",
      "Willing to Travel: Yes, More Than 75% \n",
      "\n",
      "Highest Degree Attained: Other \n",
      "\n",
      "Willing to Relocate: Undecided \n",
      "\n",
      "id: view-resume-70761.html \n",
      "\n"
     ]
    }
   ],
   "source": [
    "resumes[1].print()"
   ]
  },
  {
   "cell_type": "code",
   "execution_count": null,
   "metadata": {},
   "outputs": [],
   "source": []
  }
 ],
 "metadata": {
  "kernelspec": {
   "display_name": "Python 3",
   "language": "python",
   "name": "python3"
  },
  "language_info": {
   "codemirror_mode": {
    "name": "ipython",
    "version": 3
   },
   "file_extension": ".py",
   "mimetype": "text/x-python",
   "name": "python",
   "nbconvert_exporter": "python",
   "pygments_lexer": "ipython3",
   "version": "3.6.9"
  }
 },
 "nbformat": 4,
 "nbformat_minor": 2
}
