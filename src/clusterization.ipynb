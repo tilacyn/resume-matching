{
 "cells": [
  {
   "cell_type": "markdown",
   "metadata": {},
   "source": [
    "## Fetch resumes from job spiders searches\n",
    "We are going to query different key words each corresponding to a certain resume label (industry domain)\n",
    "And fetch those resumes into `./resumes/<label_name>`"
   ]
  },
  {
   "cell_type": "code",
   "execution_count": 70,
   "metadata": {},
   "outputs": [],
   "source": [
    "import itertools\n",
    "import numpy as np\n",
    "import os\n",
    "\n",
    "from resumes.resume import Resume\n",
    "from resumes.resume_fetcher import JobSpiderResumeFetcher\n",
    "\n",
    "labels = ['software', 'sales', 'nurse']\n",
    "\n",
    "label_dict = {\n",
    "    'software': 0,\n",
    "    'sales': 1,\n",
    "    'nurse': 2,\n",
    "}\n",
    "\n",
    "def fetch():\n",
    "    for label in labels:\n",
    "        print(\"======================\")\n",
    "        print(\"LABEL: \" + label)\n",
    "        print(\"======================\")\n",
    "        print()\n",
    "        for pagenumber in range(1, 10):\n",
    "            fetcher = JobSpiderResumeFetcher(label, '..')\n",
    "            fetcher.fetch_resumes_page(pagenumber)\n",
    "            fetcher.fetch_resume_files()"
   ]
  },
  {
   "cell_type": "code",
   "execution_count": null,
   "metadata": {},
   "outputs": [],
   "source": [
    "fetch()"
   ]
  },
  {
   "cell_type": "markdown",
   "metadata": {},
   "source": [
    "### Assert that resumes form disjoint set"
   ]
  },
  {
   "cell_type": "code",
   "execution_count": 32,
   "metadata": {
    "collapsed": true
   },
   "outputs": [
    {
     "name": "stdout",
     "output_type": "stream",
     "text": [
      "ERROR: view-resume-81265.html already labeled\n",
      "ERROR: view-resume-81848.html already labeled\n",
      "ERROR: view-resume-82194.html already labeled\n",
      "ERROR: view-resume-82227.html already labeled\n",
      "ERROR: view-resume-80828.html already labeled\n",
      "ERROR: view-resume-80855.html already labeled\n",
      "ERROR: view-resume-82288.html already labeled\n",
      "ERROR: view-resume-81853.html already labeled\n",
      "ERROR: view-resume-80869.html already labeled\n",
      "ERROR: view-resume-82316.html already labeled\n",
      "ERROR: view-resume-80790.html already labeled\n",
      "ERROR: view-resume-81056.html already labeled\n",
      "ERROR: view-resume-81400.html already labeled\n",
      "ERROR: view-resume-80850.html already labeled\n",
      "ERROR: view-resume-80867.html already labeled\n",
      "ERROR: view-resume-82067.html already labeled\n",
      "ERROR: view-resume-81481.html already labeled\n",
      "ERROR: view-resume-80971.html already labeled\n",
      "ERROR: view-resume-81047.html already labeled\n",
      "ERROR: view-resume-80793.html already labeled\n",
      "ERROR: view-resume-81107.html already labeled\n",
      "ERROR: view-resume-81919.html already labeled\n",
      "ERROR: view-resume-81273.html already labeled\n",
      "ERROR: view-resume-80787.html already labeled\n",
      "ERROR: view-resume-81905.html already labeled\n",
      "ERROR: view-resume-81845.html already labeled\n",
      "ERROR: view-resume-82212.html already labeled\n",
      "ERROR: view-resume-80860.html already labeled\n",
      "ERROR: view-resume-81505.html already labeled\n",
      "ERROR: view-resume-81862.html already labeled\n",
      "ERROR: view-resume-81083.html already labeled\n",
      "ERROR: view-resume-82068.html already labeled\n",
      "ERROR: view-resume-80909.html already labeled\n",
      "ERROR: view-resume-81667.html already labeled\n",
      "ERROR: view-resume-81496.html already labeled\n",
      "ERROR: view-resume-81134.html already labeled\n",
      "ERROR: view-resume-81921.html already labeled\n",
      "ERROR: view-resume-81928.html already labeled\n",
      "ERROR: view-resume-81603.html already labeled\n",
      "ERROR: view-resume-82072.html already labeled\n",
      "ERROR: view-resume-81121.html already labeled\n",
      "ERROR: view-resume-81386.html already labeled\n",
      "ERROR: view-resume-81376.html already labeled\n",
      "ERROR: view-resume-82065.html already labeled\n",
      "ERROR: view-resume-81715.html already labeled\n",
      "ERROR: view-resume-81016.html already labeled\n",
      "ERROR: view-resume-82071.html already labeled\n",
      "ERROR: view-resume-81078.html already labeled\n",
      "ERROR: view-resume-81687.html already labeled\n",
      "ERROR: view-resume-81734.html already labeled\n",
      "ERROR: view-resume-81448.html already labeled\n",
      "ERROR: view-resume-81541.html already labeled\n",
      "ERROR: view-resume-80792.html already labeled\n",
      "ERROR: view-resume-81145.html already labeled\n",
      "ERROR: view-resume-81943.html already labeled\n",
      "ERROR: view-resume-81054.html already labeled\n",
      "ERROR: view-resume-80934.html already labeled\n",
      "ERROR: view-resume-82145.html already labeled\n",
      "ERROR: view-resume-82069.html already labeled\n",
      "ERROR: view-resume-82305.html already labeled\n",
      "ERROR: view-resume-80768.html already labeled\n",
      "ERROR: view-resume-82099.html already labeled\n",
      "ERROR: view-resume-82317.html already labeled\n",
      "ERROR: view-resume-82066.html already labeled\n",
      "ERROR: view-resume-81676.html already labeled\n",
      "ERROR: view-resume-81856.html already labeled\n",
      "ERROR: view-resume-81276.html already labeled\n",
      "ERROR: view-resume-80769.html already labeled\n",
      "ERROR: view-resume-81420.html already labeled\n",
      "ERROR: view-resume-81211.html already labeled\n",
      "ERROR: view-resume-82117.html already labeled\n",
      "ERROR: view-resume-81240.html already labeled\n",
      "ERROR: view-resume-81422.html already labeled\n",
      "ERROR: view-resume-81888.html already labeled\n",
      "ERROR: view-resume-81159.html already labeled\n",
      "ERROR: view-resume-82289.html already labeled\n",
      "ERROR: view-resume-81423.html already labeled\n",
      "ERROR: view-resume-81279.html already labeled\n",
      "ERROR: view-resume-81979.html already labeled\n",
      "ERROR: view-resume-81139.html already labeled\n",
      "ERROR: view-resume-81402.html already labeled\n",
      "ERROR: view-resume-81885.html already labeled\n",
      "ERROR: view-resume-82149.html already labeled\n",
      "ERROR: view-resume-81840.html already labeled\n",
      "ERROR: view-resume-81238.html already labeled\n",
      "ERROR: view-resume-81803.html already labeled\n",
      "ERROR: view-resume-80800.html already labeled\n",
      "ERROR: view-resume-81459.html already labeled\n",
      "ERROR: view-resume-81478.html already labeled\n",
      "ERROR: view-resume-82238.html already labeled\n",
      "ERROR: view-resume-81324.html already labeled\n",
      "ERROR: view-resume-81981.html already labeled\n",
      "ERROR: view-resume-81542.html already labeled\n",
      "ERROR: view-resume-81920.html already labeled\n",
      "ERROR: view-resume-81102.html already labeled\n",
      "ERROR: view-resume-82269.html already labeled\n",
      "ERROR: view-resume-81291.html already labeled\n",
      "ERROR: view-resume-81763.html already labeled\n",
      "ERROR: view-resume-80902.html already labeled\n",
      "ERROR: view-resume-81149.html already labeled\n",
      "ERROR: view-resume-82201.html already labeled\n",
      "ERROR: view-resume-81652.html already labeled\n",
      "ERROR: view-resume-82070.html already labeled\n",
      "ERROR: view-resume-81964.html already labeled\n",
      "ERROR: view-resume-81131.html already labeled\n",
      "ERROR: view-resume-80953.html already labeled\n",
      "ERROR: view-resume-80896.html already labeled\n",
      "ERROR: view-resume-82133.html already labeled\n",
      "ERROR: view-resume-81473.html already labeled\n",
      "ERROR: view-resume-80739.html already labeled\n",
      "ERROR: view-resume-81901.html already labeled\n",
      "ERROR: view-resume-80507.html already labeled\n",
      "ERROR: view-resume-81701.html already labeled\n",
      "ERROR: view-resume-80768.html already labeled\n",
      "ERROR: view-resume-82154.html already labeled\n",
      "ERROR: view-resume-81304.html already labeled\n",
      "ERROR: view-resume-81979.html already labeled\n",
      "ERROR: view-resume-81820.html already labeled\n",
      "ERROR: view-resume-81866.html already labeled\n",
      "ERROR: view-resume-81013.html already labeled\n",
      "ERROR: view-resume-80058.html already labeled\n",
      "ERROR: view-resume-81932.html already labeled\n"
     ]
    }
   ],
   "source": [
    "resume_set = set()\n",
    "\n",
    "for label in labels:\n",
    "    for filename in os.listdir('../resumes/' + label):\n",
    "        if filename in resume_set:\n",
    "            print(\"ERROR: \" + filename + \" already labeled\")\n",
    "            os.remove('../resumes/' + label + '/' + filename)\n",
    "        resume_set.add(filename)"
   ]
  },
  {
   "cell_type": "markdown",
   "metadata": {},
   "source": [
    "## Parse"
   ]
  },
  {
   "cell_type": "code",
   "execution_count": 32,
   "metadata": {},
   "outputs": [],
   "source": [
    "from resumes.job_spider_resume_parser import JobSpiderHTMLResumeParser\n",
    "\n",
    "def parse_resumes(label, n):\n",
    "    resumes = []\n",
    "    observed_resumes = os.listdir('../resumes/' + label)\n",
    "    for fname in observed_resumes[:n]:\n",
    "        parser = JobSpiderHTMLResumeParser()\n",
    "        print(fname)\n",
    "        f = open('../resumes/' + label + '/' + fname)\n",
    "        parser.feed(f.read())\n",
    "\n",
    "        resume_field_map = parser.get_resume()\n",
    "        resume_field_map['id'] = fname\n",
    "        resume = Resume(resume_field_map)\n",
    "        resume.set_label(label)\n",
    "        resumes.append(resume)\n",
    "\n",
    "    return resumes"
   ]
  },
  {
   "cell_type": "code",
   "execution_count": null,
   "metadata": {},
   "outputs": [],
   "source": [
    "resumes = []\n",
    "for label in labels:\n",
    "    resumes.extend(parse_resumes(label, 1000))"
   ]
  },
  {
   "cell_type": "markdown",
   "metadata": {},
   "source": [
    "## Get embeddings"
   ]
  },
  {
   "cell_type": "code",
   "execution_count": 34,
   "metadata": {},
   "outputs": [],
   "source": [
    "from sentence_transformers import SentenceTransformer\n",
    "\n",
    "model = SentenceTransformer('bert-base-nli-mean-tokens')"
   ]
  },
  {
   "cell_type": "code",
   "execution_count": 100,
   "metadata": {},
   "outputs": [],
   "source": [
    "def get_safe(vec, i):\n",
    "    if len(vec) > i:\n",
    "        return vec[i]\n",
    "    else:\n",
    "        return 0\n",
    "\n",
    "def mean(vectors):\n",
    "    dim = len(vectors[0])\n",
    "    vecn = len(vectors)\n",
    "    result = [0] * dim\n",
    "    for i in range(dim):\n",
    "        result[i] = sum([get_safe(vectors[k], i) for k in range(vecn)]) / vecn\n",
    "    return result"
   ]
  },
  {
   "cell_type": "code",
   "execution_count": 20,
   "metadata": {},
   "outputs": [
    {
     "data": {
      "text/plain": [
       "[3.5, 5.5]"
      ]
     },
     "execution_count": 20,
     "metadata": {},
     "output_type": "execute_result"
    }
   ],
   "source": [
    "mean([[1, 4], [6, 7]])"
   ]
  },
  {
   "cell_type": "code",
   "execution_count": null,
   "metadata": {},
   "outputs": [],
   "source": [
    "embeddings_map = {}\n",
    "\n",
    "i = 1\n",
    "for resume in resumes:\n",
    "    #print(\"#\" + str(i) + \" processings resume: \" + resume.id)\n",
    "    experience = resume.experience\n",
    "    print(i, end=' ')\n",
    "    if i % 30 == 0:\n",
    "        print()\n",
    "    #print(\"experience length: \" + str(len(experience)))\n",
    "    if len(experience) == 0:\n",
    "        embeddings_map[resume.id] = 0\n",
    "    else:\n",
    "        embeddings_map[resume.id] = mean(model.encode(experience))\n",
    "    i += 1"
   ]
  },
  {
   "cell_type": "code",
   "execution_count": null,
   "metadata": {},
   "outputs": [],
   "source": [
    "resumes = list(filter(lambda r: embeddings_map[r.id] is not 0, resumes))\n",
    "len(resumes)"
   ]
  },
  {
   "cell_type": "markdown",
   "metadata": {},
   "source": [
    "## Clustering with k-means"
   ]
  },
  {
   "cell_type": "code",
   "execution_count": 104,
   "metadata": {},
   "outputs": [],
   "source": [
    "from sklearn.cluster import KMeans\n",
    "\n",
    "X = [[1, 1], [0, 1], [1, 0],\n",
    "     [10, 9], [9, 9], [9, 10],\n",
    "     [0, 8], [1, 9], [1, 8]]\n",
    "\n",
    "embeddings_matrix = [embeddings_map[r.id] for r in resumes]"
   ]
  },
  {
   "cell_type": "code",
   "execution_count": 105,
   "metadata": {},
   "outputs": [
    {
     "data": {
      "text/plain": [
       "array([[-0.08374952,  0.36573888,  1.15462919, ..., -0.10997868,\n",
       "        -0.08396376,  0.16283009],\n",
       "       [-0.01544761,  0.08804066,  1.47601754, ..., -0.15006935,\n",
       "        -0.24182051,  0.0100128 ],\n",
       "       [-0.20199351,  0.38016101,  1.11594   , ..., -0.38860819,\n",
       "        -0.40620174, -0.0450025 ]])"
      ]
     },
     "execution_count": 105,
     "metadata": {},
     "output_type": "execute_result"
    }
   ],
   "source": [
    "kmeans = KMeans(n_clusters=3, random_state=0).fit(embeddings_matrix)\n",
    "kmeans.cluster_centers_"
   ]
  },
  {
   "cell_type": "code",
   "execution_count": 107,
   "metadata": {},
   "outputs": [],
   "source": [
    "def cluster(resume):\n",
    "    #print(resume.id)\n",
    "    #print(resume.label)\n",
    "    predicted = kmeans.predict([embeddings_map[resume.id]])[0]\n",
    "    #print(predicted)\n",
    "    print()\n",
    "    return label_dict[resume.label], predicted\n"
   ]
  },
  {
   "cell_type": "code",
   "execution_count": null,
   "metadata": {},
   "outputs": [],
   "source": [
    "fscore = [[0, 0, 0], [0, 0, 0], [0, 0, 0]]\n",
    "for resume in resumes:\n",
    "    expected, actual = cluster(resume)\n",
    "    print(actual)\n",
    "    print(expected)\n",
    "    fscore[actual][expected] += 1"
   ]
  },
  {
   "cell_type": "markdown",
   "metadata": {},
   "source": [
    "### Understanding the output\n",
    "Here we have \"confusion\" matrix. A row in matrix represents a cluster obtained from kmeans algorithm\n",
    "A column in matrix represents a real resume label (see `label_dict`). A cell `[i, j]` contains number of resumes with label `j` and which belong to cluster number `i`. It is  **expected** that each cluster is going to have major intersection with a single certain label intuitively  "
   ]
  },
  {
   "cell_type": "code",
   "execution_count": 109,
   "metadata": {},
   "outputs": [
    {
     "name": "stdout",
     "output_type": "stream",
     "text": [
      "[10, 11, 176]\n",
      "[36, 43, 184]\n",
      "[395, 265, 42]\n"
     ]
    }
   ],
   "source": [
    "for row in fscore:\n",
    "    print(row)"
   ]
  },
  {
   "cell_type": "markdown",
   "metadata": {},
   "source": [
    "As we can see now only `nurse` labeled resumes are clusterized differenly from other labels. A cluster which has major part of `software` labeled resumes also \"spreads its influence\" on those with `sales` label"
   ]
  }
 ],
 "metadata": {
  "kernelspec": {
   "display_name": "Python 3",
   "language": "python",
   "name": "python3"
  },
  "language_info": {
   "codemirror_mode": {
    "name": "ipython",
    "version": 3
   },
   "file_extension": ".py",
   "mimetype": "text/x-python",
   "name": "python",
   "nbconvert_exporter": "python",
   "pygments_lexer": "ipython3",
   "version": "3.6.9"
  }
 },
 "nbformat": 4,
 "nbformat_minor": 2
}
